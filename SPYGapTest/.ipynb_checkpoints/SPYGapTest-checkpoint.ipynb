{
 "cells": [
  {
   "cell_type": "code",
   "execution_count": 141,
   "id": "ac785af4-e064-46a3-ada3-09babfb9093b",
   "metadata": {
    "tags": []
   },
   "outputs": [],
   "source": [
    "import pandas as pd\n",
    "import datetime as dt\n",
    "import numpy as np"
   ]
  },
  {
   "cell_type": "code",
   "execution_count": 142,
   "id": "7fbf27bb-54cd-4c32-be02-f693817a1ee2",
   "metadata": {},
   "outputs": [
    {
     "data": {
      "text/html": [
       "<div>\n",
       "<style scoped>\n",
       "    .dataframe tbody tr th:only-of-type {\n",
       "        vertical-align: middle;\n",
       "    }\n",
       "\n",
       "    .dataframe tbody tr th {\n",
       "        vertical-align: top;\n",
       "    }\n",
       "\n",
       "    .dataframe thead th {\n",
       "        text-align: right;\n",
       "    }\n",
       "</style>\n",
       "<table border=\"1\" class=\"dataframe\">\n",
       "  <thead>\n",
       "    <tr style=\"text-align: right;\">\n",
       "      <th></th>\n",
       "      <th>open</th>\n",
       "      <th>high</th>\n",
       "      <th>low</th>\n",
       "      <th>close</th>\n",
       "      <th>volume</th>\n",
       "      <th>ticker</th>\n",
       "    </tr>\n",
       "    <tr>\n",
       "      <th>datetime</th>\n",
       "      <th></th>\n",
       "      <th></th>\n",
       "      <th></th>\n",
       "      <th></th>\n",
       "      <th></th>\n",
       "      <th></th>\n",
       "    </tr>\n",
       "  </thead>\n",
       "  <tbody>\n",
       "    <tr>\n",
       "      <th>1993-02-02 16:00:00</th>\n",
       "      <td>44.23</td>\n",
       "      <td>44.38</td>\n",
       "      <td>44.13</td>\n",
       "      <td>44.34</td>\n",
       "      <td>201300</td>\n",
       "      <td>SPY</td>\n",
       "    </tr>\n",
       "    <tr>\n",
       "      <th>1993-02-03 16:00:00</th>\n",
       "      <td>44.41</td>\n",
       "      <td>44.84</td>\n",
       "      <td>44.38</td>\n",
       "      <td>44.82</td>\n",
       "      <td>529400</td>\n",
       "      <td>SPY</td>\n",
       "    </tr>\n",
       "    <tr>\n",
       "      <th>1993-02-04 16:00:00</th>\n",
       "      <td>44.97</td>\n",
       "      <td>45.10</td>\n",
       "      <td>44.88</td>\n",
       "      <td>45.00</td>\n",
       "      <td>531500</td>\n",
       "      <td>SPY</td>\n",
       "    </tr>\n",
       "    <tr>\n",
       "      <th>1993-02-05 16:00:00</th>\n",
       "      <td>44.97</td>\n",
       "      <td>45.06</td>\n",
       "      <td>44.73</td>\n",
       "      <td>44.97</td>\n",
       "      <td>492100</td>\n",
       "      <td>SPY</td>\n",
       "    </tr>\n",
       "    <tr>\n",
       "      <th>1993-02-08 16:00:00</th>\n",
       "      <td>44.97</td>\n",
       "      <td>45.13</td>\n",
       "      <td>44.92</td>\n",
       "      <td>44.98</td>\n",
       "      <td>596100</td>\n",
       "      <td>SPY</td>\n",
       "    </tr>\n",
       "    <tr>\n",
       "      <th>...</th>\n",
       "      <td>...</td>\n",
       "      <td>...</td>\n",
       "      <td>...</td>\n",
       "      <td>...</td>\n",
       "      <td>...</td>\n",
       "      <td>...</td>\n",
       "    </tr>\n",
       "    <tr>\n",
       "      <th>2022-06-15 16:00:00</th>\n",
       "      <td>377.36</td>\n",
       "      <td>383.90</td>\n",
       "      <td>372.12</td>\n",
       "      <td>379.20</td>\n",
       "      <td>125670667</td>\n",
       "      <td>SPY</td>\n",
       "    </tr>\n",
       "    <tr>\n",
       "      <th>2022-06-16 16:00:00</th>\n",
       "      <td>370.51</td>\n",
       "      <td>370.94</td>\n",
       "      <td>364.08</td>\n",
       "      <td>366.65</td>\n",
       "      <td>134473689</td>\n",
       "      <td>SPY</td>\n",
       "    </tr>\n",
       "    <tr>\n",
       "      <th>2022-06-17 16:00:00</th>\n",
       "      <td>365.51</td>\n",
       "      <td>369.38</td>\n",
       "      <td>362.17</td>\n",
       "      <td>365.86</td>\n",
       "      <td>111114644</td>\n",
       "      <td>SPY</td>\n",
       "    </tr>\n",
       "    <tr>\n",
       "      <th>2022-06-21 16:00:00</th>\n",
       "      <td>371.89</td>\n",
       "      <td>376.53</td>\n",
       "      <td>371.81</td>\n",
       "      <td>375.07</td>\n",
       "      <td>76812900</td>\n",
       "      <td>SPY</td>\n",
       "    </tr>\n",
       "    <tr>\n",
       "      <th>2022-06-22 16:00:00</th>\n",
       "      <td>370.62</td>\n",
       "      <td>378.72</td>\n",
       "      <td>370.18</td>\n",
       "      <td>374.39</td>\n",
       "      <td>89950254</td>\n",
       "      <td>SPY</td>\n",
       "    </tr>\n",
       "  </tbody>\n",
       "</table>\n",
       "<p>7398 rows × 6 columns</p>\n",
       "</div>"
      ],
      "text/plain": [
       "                       open    high     low   close     volume ticker\n",
       "datetime                                                             \n",
       "1993-02-02 16:00:00   44.23   44.38   44.13   44.34     201300    SPY\n",
       "1993-02-03 16:00:00   44.41   44.84   44.38   44.82     529400    SPY\n",
       "1993-02-04 16:00:00   44.97   45.10   44.88   45.00     531500    SPY\n",
       "1993-02-05 16:00:00   44.97   45.06   44.73   44.97     492100    SPY\n",
       "1993-02-08 16:00:00   44.97   45.13   44.92   44.98     596100    SPY\n",
       "...                     ...     ...     ...     ...        ...    ...\n",
       "2022-06-15 16:00:00  377.36  383.90  372.12  379.20  125670667    SPY\n",
       "2022-06-16 16:00:00  370.51  370.94  364.08  366.65  134473689    SPY\n",
       "2022-06-17 16:00:00  365.51  369.38  362.17  365.86  111114644    SPY\n",
       "2022-06-21 16:00:00  371.89  376.53  371.81  375.07   76812900    SPY\n",
       "2022-06-22 16:00:00  370.62  378.72  370.18  374.39   89950254    SPY\n",
       "\n",
       "[7398 rows x 6 columns]"
      ]
     },
     "execution_count": 142,
     "metadata": {},
     "output_type": "execute_result"
    }
   ],
   "source": [
    "#Read from .txt in Tradestation format\n",
    "df = pd.read_csv(\"D:\\Stocks\\LocalData\\SPY_Daily.txt\")\n",
    "\n",
    "#Rename columns\n",
    "df = df.rename(columns={\n",
    "    'Open': 'open',\n",
    "    'High': 'high',\n",
    "    'Low': 'low',\n",
    "    'Close': 'close',\n",
    "    'Vol': 'volume'})\n",
    "\n",
    "#Convert strings of date and time to datetime format\n",
    "df[\"datetime\"] = df[\"Date\"] + \" \" + df[\"Time\"]\n",
    "df[\"datetime\"] =pd.to_datetime(df[\"datetime\"])\n",
    "\n",
    "df['ticker'] = 'SPY'\n",
    "\n",
    "#Shift 1min to the left for proper higher timeframe generation\n",
    "df= df.set_index('datetime')\n",
    "\n",
    "#drop unneccessary columns\n",
    "df = df.drop(columns=['Date', 'Time', 'OI'])\n",
    "df"
   ]
  },
  {
   "cell_type": "markdown",
   "id": "a553a26f-0c15-407a-a3c0-d9b7c8d66b43",
   "metadata": {},
   "source": [
    "### Indicator Creation"
   ]
  },
  {
   "cell_type": "code",
   "execution_count": 143,
   "id": "33ee0cc6-d3a3-41da-a43f-b14da80d6e6e",
   "metadata": {},
   "outputs": [],
   "source": [
    "#Create custom indicators\n",
    "ema9 = lambda x: x.ewm(span=9, min_periods=9, adjust=False, ignore_na=False).mean()\n",
    "sma10 = lambda x: x.rolling(10).mean()\n",
    "sma20 = lambda x: x.rolling(20).mean()\n",
    "sma50 = lambda x: x.rolling(50).mean()\n",
    "sma100 = lambda x: x.rolling(100).mean()\n",
    "sma150 = lambda x: x.rolling(150).mean()\n",
    "sma200 = lambda x: x.rolling(200).mean()\n",
    "test = lambda x: x + 2"
   ]
  },
  {
   "cell_type": "code",
   "execution_count": 144,
   "id": "39474ef0-308a-454f-9063-508985d18d31",
   "metadata": {
    "tags": []
   },
   "outputs": [],
   "source": [
    "df = df.assign(ema9=df.groupby('ticker')['close'].apply(ema9))\n",
    "df = df.assign(sma10=df.groupby('ticker')['close'].apply(sma10))\n",
    "df = df.assign(sma20=df.groupby('ticker')['close'].apply(sma20))\n",
    "df = df.assign(sma50=df.groupby('ticker')['close'].apply(sma50))\n",
    "df = df.assign(sma100=df.groupby('ticker')['close'].apply(sma100))\n",
    "df = df.assign(sma150=df.groupby('ticker')['close'].apply(sma150))\n",
    "df = df.assign(sma200=df.groupby('ticker')['close'].apply(sma200))\n",
    "df = df.dropna(subset=['sma200'])"
   ]
  },
  {
   "cell_type": "code",
   "execution_count": 145,
   "id": "e15fed3a-b0f5-4831-a96b-e2a84ed72479",
   "metadata": {},
   "outputs": [],
   "source": [
    "df['oa_ema9']= df['open'] > df['ema9']\n",
    "df['oa_sma10']= df['open'] > df['sma10']\n",
    "df['oa_sma20']= df['open'] > df['sma20']\n",
    "df['oa_sma50']= df['open'] > df['sma50']\n",
    "df['oa_sma100']= df['open'] > df['sma100']\n",
    "df['oa_sma150']= df['open'] > df['sma150']\n",
    "df['oa_sma200']= df['open'] > df['sma200']"
   ]
  },
  {
   "cell_type": "markdown",
   "id": "1d717c5e-4422-47cd-8c18-6471b60e836d",
   "metadata": {},
   "source": [
    "### Candle parameters"
   ]
  },
  {
   "cell_type": "code",
   "execution_count": 146,
   "id": "bd619ad8-4704-4b57-bab2-2a6e584bc215",
   "metadata": {
    "tags": []
   },
   "outputs": [],
   "source": [
    "# General Candle Info\n",
    "df['OpenCloseRange$'] = df['close'] - df['open']\n",
    "df['OpenCloseRange%'] = round(df['OpenCloseRange$'] / df['open'] * 100, 2)\n",
    "df['GreenCandle'] = df['open'] < df['close']\n",
    "df['RedCandle'] = df['open'] > df['close']\n",
    "df['DojiCandle'] = df['open'] == df['close']\n",
    "df['NextGreen'] = df.shift(-1)['GreenCandle']\n",
    "df['NextRed'] = df.shift(-1)['RedCandle']\n",
    "df['PrevGreen'] = df.shift()['GreenCandle']\n",
    "df['PrevRed'] = df.shift()['RedCandle']\n",
    "df = df.dropna()\n",
    "#Replace True/False with 1/0 for Excel processing\n",
    "df.replace({False: 0, True: 1}, inplace=True)"
   ]
  },
  {
   "cell_type": "markdown",
   "id": "00d31092-1afc-46af-a532-88e2e7ac2805",
   "metadata": {},
   "source": [
    "### Gap Parameters"
   ]
  },
  {
   "cell_type": "code",
   "execution_count": 147,
   "id": "8904c8f8-41a1-4c22-9340-d0adf0739e84",
   "metadata": {},
   "outputs": [],
   "source": [
    "df.loc[df['open'] >= df.shift()['close'], 'GapDir'] = \"Up\"\n",
    "df.loc[df['open'] < df.shift()['close'], 'GapDir'] = \"Down\"\n",
    "df['Gap$'] = df['open'] - df.shift()['close']\n",
    "df['Gap%'] = round(df['Gap$'] / df.shift()['close'] * 100, 2)"
   ]
  },
  {
   "cell_type": "code",
   "execution_count": 148,
   "id": "8302681b-6feb-4ba2-91a6-8d5d649b975c",
   "metadata": {},
   "outputs": [],
   "source": [
    "df = df.dropna()\n",
    "df.to_csv(\"SPYGapData.csv\")"
   ]
  },
  {
   "cell_type": "code",
   "execution_count": null,
   "id": "a74f737a-91d1-44f3-80ee-d2cd7ec6dc54",
   "metadata": {},
   "outputs": [],
   "source": []
  }
 ],
 "metadata": {
  "kernelspec": {
   "display_name": "Python 3 (ipykernel)",
   "language": "python",
   "name": "python3"
  },
  "language_info": {
   "codemirror_mode": {
    "name": "ipython",
    "version": 3
   },
   "file_extension": ".py",
   "mimetype": "text/x-python",
   "name": "python",
   "nbconvert_exporter": "python",
   "pygments_lexer": "ipython3",
   "version": "3.9.7"
  }
 },
 "nbformat": 4,
 "nbformat_minor": 5
}
