{
  "nbformat": 4,
  "nbformat_minor": 0,
  "metadata": {
    "colab": {
      "name": "SPYGap",
      "provenance": [],
      "collapsed_sections": [
        "3VVpQzHlwp1x",
        "_8lVaW3pwxRI",
        "QMfIktT-wnff",
        "GgZQ03o0l1_c"
      ],
      "include_colab_link": true
    },
    "kernelspec": {
      "name": "python3",
      "display_name": "Python 3"
    },
    "language_info": {
      "name": "python"
    }
  },
  "cells": [
    {
      "cell_type": "markdown",
      "metadata": {
        "id": "view-in-github",
        "colab_type": "text"
      },
      "source": [
        "<a href=\"https://colab.research.google.com/github/CookCL/stocks-data/blob/main/SPYGap.ipynb\" target=\"_parent\"><img src=\"https://colab.research.google.com/assets/colab-badge.svg\" alt=\"Open In Colab\"/></a>"
      ]
    },
    {
      "cell_type": "markdown",
      "source": [
        "# Libraries"
      ],
      "metadata": {
        "id": "3VVpQzHlwp1x"
      }
    },
    {
      "cell_type": "code",
      "execution_count": null,
      "metadata": {
        "colab": {
          "base_uri": "https://localhost:8080/"
        },
        "id": "T2ZX2TgxGgDs",
        "outputId": "40c4f622-c06b-4151-9947-8df99c78d81b"
      },
      "outputs": [
        {
          "output_type": "stream",
          "name": "stdout",
          "text": [
            "Looking in indexes: https://pypi.org/simple, https://us-python.pkg.dev/colab-wheels/public/simple/\n",
            "Collecting polygon-api-client\n",
            "  Downloading polygon_api_client-0.2.11-py3-none-any.whl (22 kB)\n",
            "Collecting websockets>=8.0.2\n",
            "  Downloading websockets-10.3-cp37-cp37m-manylinux_2_5_x86_64.manylinux1_x86_64.manylinux_2_12_x86_64.manylinux2010_x86_64.whl (112 kB)\n",
            "\u001b[K     |████████████████████████████████| 112 kB 9.5 MB/s \n",
            "\u001b[?25hCollecting websocket-client>=0.56.0\n",
            "  Downloading websocket_client-1.3.3-py3-none-any.whl (54 kB)\n",
            "\u001b[K     |████████████████████████████████| 54 kB 2.9 MB/s \n",
            "\u001b[?25hRequirement already satisfied: requests>=2.22.0 in /usr/local/lib/python3.7/dist-packages (from polygon-api-client) (2.23.0)\n",
            "Requirement already satisfied: urllib3!=1.25.0,!=1.25.1,<1.26,>=1.21.1 in /usr/local/lib/python3.7/dist-packages (from requests>=2.22.0->polygon-api-client) (1.24.3)\n",
            "Requirement already satisfied: chardet<4,>=3.0.2 in /usr/local/lib/python3.7/dist-packages (from requests>=2.22.0->polygon-api-client) (3.0.4)\n",
            "Requirement already satisfied: idna<3,>=2.5 in /usr/local/lib/python3.7/dist-packages (from requests>=2.22.0->polygon-api-client) (2.10)\n",
            "Requirement already satisfied: certifi>=2017.4.17 in /usr/local/lib/python3.7/dist-packages (from requests>=2.22.0->polygon-api-client) (2022.6.15)\n",
            "Installing collected packages: websockets, websocket-client, polygon-api-client\n",
            "Successfully installed polygon-api-client-0.2.11 websocket-client-1.3.3 websockets-10.3\n"
          ]
        }
      ],
      "source": [
        "pip install polygon-api-client"
      ]
    },
    {
      "cell_type": "code",
      "source": [
        "import time\n",
        "import datetime\n",
        "import json\n",
        "import os\n",
        "\n",
        "import numpy as np\n",
        "import pandas as pd\n",
        "import plotly.graph_objects as go\n",
        "from polygon import RESTClient"
      ],
      "metadata": {
        "id": "hZxFWL_FHKOs"
      },
      "execution_count": null,
      "outputs": []
    },
    {
      "cell_type": "markdown",
      "source": [
        "# Data preparation"
      ],
      "metadata": {
        "id": "XRQsZtvbwtYA"
      }
    },
    {
      "cell_type": "code",
      "source": [
        "\n",
        "def polygonData(key:str,ticker:str,qty:int=1,period:str='day',start:str='2015-01-01',\n",
        "                end:str='2022-06-01',freeVersion:bool=True) -> pd.DataFrame:\n",
        "\n",
        "    '''\n",
        "    Downloads price data of the specified ticker for the date range desired.\n",
        "\n",
        "    Parameters\n",
        "    ----------\n",
        "    key: str\n",
        "        String with the polygon API key.\n",
        "    ticker: str\n",
        "        String with the ticker to look for.\n",
        "    qty: int\n",
        "        Multiplier for the timeframe creation.\n",
        "    period: str\n",
        "        Timeframe period. May be 'minute', 'hour', 'day', etc. \n",
        "        For more look in polygon documentation.\n",
        "    start: str\n",
        "        Initial date for the data.\n",
        "    end: str\n",
        "        Final date for the data.\n",
        "    freeVersion: bool\n",
        "        True to wait 13 seconds on each call to not meet the free version \n",
        "        usage limits.\n",
        "    \n",
        "    Returns\n",
        "    -------\n",
        "    df: pd.DataFrame\n",
        "        Contains the data as DataFrame.\n",
        "    '''\n",
        "\n",
        "    df = pd.DataFrame(columns=['Open', 'High', 'Low', 'Close','Volume','VWAP'])\n",
        "    with RESTClient(key) as client:\n",
        "\n",
        "        resp = client.stocks_equities_aggregates(ticker, qty, period, start, end, unadjusted=False, limit=50000)\n",
        "        try:\n",
        "            for result in resp.results:\n",
        "                row = [result['o'],result['h'],result['l'],result['c'],result['v'],result['vw']]\n",
        "                df.loc[datetime.datetime.fromtimestamp(result['t']/1000.0).strftime('%Y-%m-%d %H:%M:%S')] = row\n",
        "        except:\n",
        "            print(resp.status)\n",
        "\n",
        "        if freeVersion:\n",
        "            time.sleep(13)\n",
        "\n",
        "    return df"
      ],
      "metadata": {
        "id": "qY4SXfH6Hd5-"
      },
      "execution_count": null,
      "outputs": []
    },
    {
      "cell_type": "code",
      "source": [
        "polygon_key = 'your_polygon_key'\n",
        "complete_df = pd.DataFrame()\n",
        "error = False\n",
        "end = datetime.date.today()\n",
        "while not error:\n",
        "    try:\n",
        "        df = polygonData(polygon_key,'SPY',1,'day',(end - datetime.timedelta(days=2*365)).strftime('%Y-%m-%d'),end.strftime('%Y-%m-%d'),freeVersion=False)\n",
        "        df.index = pd.to_datetime(df.index)\n",
        "        end = (end - datetime.timedelta(days=(df.index[-1]-df.index[0]).days))\n",
        "        error = True\n",
        "    except Exception as e:\n",
        "        print(e)\n",
        "        error = True\n",
        "df.to_csv('SPY1.csv')"
      ],
      "metadata": {
        "id": "fM4GladoIBka"
      },
      "execution_count": null,
      "outputs": []
    },
    {
      "cell_type": "markdown",
      "source": [
        "## Feature engineering"
      ],
      "metadata": {
        "id": "_8lVaW3pwxRI"
      }
    },
    {
      "cell_type": "code",
      "source": [
        "spy = df\n",
        "spy['%GapUp'] = np.where(spy['Open']/spy['Close'].shift(1) - 1 > 0,(spy['Open']/spy['Close'].shift(1) - 1)*100, float('nan'))\n",
        "spy['%GapDn'] = np.where(spy['Open']/spy['Close'].shift(1) - 1 < 0,(spy['Open']/spy['Close'].shift(1) - 1)*100, float('nan'))\n",
        "\n",
        "follow = []\n",
        "pos = 0\n",
        "for i in spy.index:\n",
        "    candle = spy.loc[i]\n",
        "    # Exit logic\n",
        "    if pos == 1 and candle['Close'] < candle['Open']:\n",
        "        pos = 0\n",
        "    elif pos == -1 and candle['Close'] > candle['Open']:\n",
        "        pos = 0\n",
        "    # Entry logic\n",
        "    if candle['%GapUp'] > 0.01:\n",
        "        pos = 1\n",
        "    elif candle['%GapDn'] < -0.01:\n",
        "        pos = -1\n",
        "\n",
        "    follow.append(pos)\n",
        "    \n",
        "spy['Follow'] = follow\n",
        "\n",
        "a = spy['Follow'] > 0\n",
        "spy['FollowUp'] = a.cumsum()-a.cumsum().where(~a).ffill().fillna(0).astype(int)\n",
        "\n",
        "a = spy['Follow'] < 0\n",
        "spy['FollowDn'] = a.cumsum()-a.cumsum().where(~a).ffill().fillna(0).astype(int)\n",
        "\n",
        "avg_follow_up = spy['FollowUp'][(spy['FollowUp'] != 0) & (spy['FollowUp'].shift(-1) == 0)].mean()\n",
        "avg_follow_dn = spy['FollowDn'][(spy['FollowDn'] != 0) & (spy['FollowDn'].shift(-1) == 0)].mean()\n",
        "\n",
        "print(f'''Avg. Follow Up: {avg_follow_up}\n",
        "Avg. Follow Down: {avg_follow_dn}''')\n",
        "spy"
      ],
      "metadata": {
        "colab": {
          "base_uri": "https://localhost:8080/"
        },
        "id": "UhM7JftGQs9v",
        "outputId": "ba3a6862-ed57-469b-ba06-9abc59d36453"
      },
      "execution_count": null,
      "outputs": [
        {
          "output_type": "stream",
          "name": "stdout",
          "text": [
            "Avg. Follow Up: 2.236220472440945\n",
            "Avg. Follow Down: 1.6904761904761905\n"
          ]
        },
        {
          "output_type": "execute_result",
          "data": {
            "text/plain": [
              "                       Open      High      Low   Close      Volume      VWAP  \\\n",
              "2020-07-21 04:00:00  326.45  326.9300  323.940  325.01  57691215.0  325.6259   \n",
              "2020-07-22 04:00:00  324.62  327.2000  324.500  326.86  57917101.0  325.8703   \n",
              "2020-07-23 04:00:00  326.47  327.2300  321.480  322.96  75841843.0  324.3429   \n",
              "2020-07-24 04:00:00  320.95  321.9900  319.246  320.88  72946759.0  320.9104   \n",
              "2020-07-27 04:00:00  321.63  323.4100  320.775  323.22  48212747.0  322.3792   \n",
              "...                     ...       ...      ...     ...         ...       ...   \n",
              "2022-07-14 04:00:00  373.61  379.0498  371.040  377.91  89931568.0  375.5888   \n",
              "2022-07-15 04:00:00  382.55  385.2500  380.540  385.13  79637368.0  383.3361   \n",
              "2022-07-18 04:00:00  388.38  389.0900  380.660  381.95  63245022.0  385.0900   \n",
              "2022-07-19 04:00:00  386.08  392.8700  385.390  392.27  78528370.0  389.3655   \n",
              "2022-07-20 04:00:00  392.47  396.2600  391.030  394.77  71845003.0  394.1710   \n",
              "\n",
              "                       %GapUp    %GapDn  Follow  FollowUp  FollowDn  \n",
              "2020-07-21 04:00:00       NaN       NaN       0         0         0  \n",
              "2020-07-22 04:00:00       NaN -0.119996      -1         0         1  \n",
              "2020-07-23 04:00:00       NaN -0.119317      -1         0         2  \n",
              "2020-07-24 04:00:00       NaN -0.622368      -1         0         3  \n",
              "2020-07-27 04:00:00  0.233732       NaN       1         1         0  \n",
              "...                       ...       ...     ...       ...       ...  \n",
              "2022-07-14 04:00:00       NaN -1.377927      -1         0         5  \n",
              "2022-07-15 04:00:00  1.227806       NaN       1         1         0  \n",
              "2022-07-18 04:00:00  0.843871       NaN       1         2         0  \n",
              "2022-07-19 04:00:00  1.081293       NaN       1         3         0  \n",
              "2022-07-20 04:00:00  0.050985       NaN       1         4         0  \n",
              "\n",
              "[504 rows x 11 columns]"
            ],
            "text/html": [
              "\n",
              "  <div id=\"df-c6a579e9-bf84-4411-a292-f8dc7db33e61\">\n",
              "    <div class=\"colab-df-container\">\n",
              "      <div>\n",
              "<style scoped>\n",
              "    .dataframe tbody tr th:only-of-type {\n",
              "        vertical-align: middle;\n",
              "    }\n",
              "\n",
              "    .dataframe tbody tr th {\n",
              "        vertical-align: top;\n",
              "    }\n",
              "\n",
              "    .dataframe thead th {\n",
              "        text-align: right;\n",
              "    }\n",
              "</style>\n",
              "<table border=\"1\" class=\"dataframe\">\n",
              "  <thead>\n",
              "    <tr style=\"text-align: right;\">\n",
              "      <th></th>\n",
              "      <th>Open</th>\n",
              "      <th>High</th>\n",
              "      <th>Low</th>\n",
              "      <th>Close</th>\n",
              "      <th>Volume</th>\n",
              "      <th>VWAP</th>\n",
              "      <th>%GapUp</th>\n",
              "      <th>%GapDn</th>\n",
              "      <th>Follow</th>\n",
              "      <th>FollowUp</th>\n",
              "      <th>FollowDn</th>\n",
              "    </tr>\n",
              "  </thead>\n",
              "  <tbody>\n",
              "    <tr>\n",
              "      <th>2020-07-21 04:00:00</th>\n",
              "      <td>326.45</td>\n",
              "      <td>326.9300</td>\n",
              "      <td>323.940</td>\n",
              "      <td>325.01</td>\n",
              "      <td>57691215.0</td>\n",
              "      <td>325.6259</td>\n",
              "      <td>NaN</td>\n",
              "      <td>NaN</td>\n",
              "      <td>0</td>\n",
              "      <td>0</td>\n",
              "      <td>0</td>\n",
              "    </tr>\n",
              "    <tr>\n",
              "      <th>2020-07-22 04:00:00</th>\n",
              "      <td>324.62</td>\n",
              "      <td>327.2000</td>\n",
              "      <td>324.500</td>\n",
              "      <td>326.86</td>\n",
              "      <td>57917101.0</td>\n",
              "      <td>325.8703</td>\n",
              "      <td>NaN</td>\n",
              "      <td>-0.119996</td>\n",
              "      <td>-1</td>\n",
              "      <td>0</td>\n",
              "      <td>1</td>\n",
              "    </tr>\n",
              "    <tr>\n",
              "      <th>2020-07-23 04:00:00</th>\n",
              "      <td>326.47</td>\n",
              "      <td>327.2300</td>\n",
              "      <td>321.480</td>\n",
              "      <td>322.96</td>\n",
              "      <td>75841843.0</td>\n",
              "      <td>324.3429</td>\n",
              "      <td>NaN</td>\n",
              "      <td>-0.119317</td>\n",
              "      <td>-1</td>\n",
              "      <td>0</td>\n",
              "      <td>2</td>\n",
              "    </tr>\n",
              "    <tr>\n",
              "      <th>2020-07-24 04:00:00</th>\n",
              "      <td>320.95</td>\n",
              "      <td>321.9900</td>\n",
              "      <td>319.246</td>\n",
              "      <td>320.88</td>\n",
              "      <td>72946759.0</td>\n",
              "      <td>320.9104</td>\n",
              "      <td>NaN</td>\n",
              "      <td>-0.622368</td>\n",
              "      <td>-1</td>\n",
              "      <td>0</td>\n",
              "      <td>3</td>\n",
              "    </tr>\n",
              "    <tr>\n",
              "      <th>2020-07-27 04:00:00</th>\n",
              "      <td>321.63</td>\n",
              "      <td>323.4100</td>\n",
              "      <td>320.775</td>\n",
              "      <td>323.22</td>\n",
              "      <td>48212747.0</td>\n",
              "      <td>322.3792</td>\n",
              "      <td>0.233732</td>\n",
              "      <td>NaN</td>\n",
              "      <td>1</td>\n",
              "      <td>1</td>\n",
              "      <td>0</td>\n",
              "    </tr>\n",
              "    <tr>\n",
              "      <th>...</th>\n",
              "      <td>...</td>\n",
              "      <td>...</td>\n",
              "      <td>...</td>\n",
              "      <td>...</td>\n",
              "      <td>...</td>\n",
              "      <td>...</td>\n",
              "      <td>...</td>\n",
              "      <td>...</td>\n",
              "      <td>...</td>\n",
              "      <td>...</td>\n",
              "      <td>...</td>\n",
              "    </tr>\n",
              "    <tr>\n",
              "      <th>2022-07-14 04:00:00</th>\n",
              "      <td>373.61</td>\n",
              "      <td>379.0498</td>\n",
              "      <td>371.040</td>\n",
              "      <td>377.91</td>\n",
              "      <td>89931568.0</td>\n",
              "      <td>375.5888</td>\n",
              "      <td>NaN</td>\n",
              "      <td>-1.377927</td>\n",
              "      <td>-1</td>\n",
              "      <td>0</td>\n",
              "      <td>5</td>\n",
              "    </tr>\n",
              "    <tr>\n",
              "      <th>2022-07-15 04:00:00</th>\n",
              "      <td>382.55</td>\n",
              "      <td>385.2500</td>\n",
              "      <td>380.540</td>\n",
              "      <td>385.13</td>\n",
              "      <td>79637368.0</td>\n",
              "      <td>383.3361</td>\n",
              "      <td>1.227806</td>\n",
              "      <td>NaN</td>\n",
              "      <td>1</td>\n",
              "      <td>1</td>\n",
              "      <td>0</td>\n",
              "    </tr>\n",
              "    <tr>\n",
              "      <th>2022-07-18 04:00:00</th>\n",
              "      <td>388.38</td>\n",
              "      <td>389.0900</td>\n",
              "      <td>380.660</td>\n",
              "      <td>381.95</td>\n",
              "      <td>63245022.0</td>\n",
              "      <td>385.0900</td>\n",
              "      <td>0.843871</td>\n",
              "      <td>NaN</td>\n",
              "      <td>1</td>\n",
              "      <td>2</td>\n",
              "      <td>0</td>\n",
              "    </tr>\n",
              "    <tr>\n",
              "      <th>2022-07-19 04:00:00</th>\n",
              "      <td>386.08</td>\n",
              "      <td>392.8700</td>\n",
              "      <td>385.390</td>\n",
              "      <td>392.27</td>\n",
              "      <td>78528370.0</td>\n",
              "      <td>389.3655</td>\n",
              "      <td>1.081293</td>\n",
              "      <td>NaN</td>\n",
              "      <td>1</td>\n",
              "      <td>3</td>\n",
              "      <td>0</td>\n",
              "    </tr>\n",
              "    <tr>\n",
              "      <th>2022-07-20 04:00:00</th>\n",
              "      <td>392.47</td>\n",
              "      <td>396.2600</td>\n",
              "      <td>391.030</td>\n",
              "      <td>394.77</td>\n",
              "      <td>71845003.0</td>\n",
              "      <td>394.1710</td>\n",
              "      <td>0.050985</td>\n",
              "      <td>NaN</td>\n",
              "      <td>1</td>\n",
              "      <td>4</td>\n",
              "      <td>0</td>\n",
              "    </tr>\n",
              "  </tbody>\n",
              "</table>\n",
              "<p>504 rows × 11 columns</p>\n",
              "</div>\n",
              "      <button class=\"colab-df-convert\" onclick=\"convertToInteractive('df-c6a579e9-bf84-4411-a292-f8dc7db33e61')\"\n",
              "              title=\"Convert this dataframe to an interactive table.\"\n",
              "              style=\"display:none;\">\n",
              "        \n",
              "  <svg xmlns=\"http://www.w3.org/2000/svg\" height=\"24px\"viewBox=\"0 0 24 24\"\n",
              "       width=\"24px\">\n",
              "    <path d=\"M0 0h24v24H0V0z\" fill=\"none\"/>\n",
              "    <path d=\"M18.56 5.44l.94 2.06.94-2.06 2.06-.94-2.06-.94-.94-2.06-.94 2.06-2.06.94zm-11 1L8.5 8.5l.94-2.06 2.06-.94-2.06-.94L8.5 2.5l-.94 2.06-2.06.94zm10 10l.94 2.06.94-2.06 2.06-.94-2.06-.94-.94-2.06-.94 2.06-2.06.94z\"/><path d=\"M17.41 7.96l-1.37-1.37c-.4-.4-.92-.59-1.43-.59-.52 0-1.04.2-1.43.59L10.3 9.45l-7.72 7.72c-.78.78-.78 2.05 0 2.83L4 21.41c.39.39.9.59 1.41.59.51 0 1.02-.2 1.41-.59l7.78-7.78 2.81-2.81c.8-.78.8-2.07 0-2.86zM5.41 20L4 18.59l7.72-7.72 1.47 1.35L5.41 20z\"/>\n",
              "  </svg>\n",
              "      </button>\n",
              "      \n",
              "  <style>\n",
              "    .colab-df-container {\n",
              "      display:flex;\n",
              "      flex-wrap:wrap;\n",
              "      gap: 12px;\n",
              "    }\n",
              "\n",
              "    .colab-df-convert {\n",
              "      background-color: #E8F0FE;\n",
              "      border: none;\n",
              "      border-radius: 50%;\n",
              "      cursor: pointer;\n",
              "      display: none;\n",
              "      fill: #1967D2;\n",
              "      height: 32px;\n",
              "      padding: 0 0 0 0;\n",
              "      width: 32px;\n",
              "    }\n",
              "\n",
              "    .colab-df-convert:hover {\n",
              "      background-color: #E2EBFA;\n",
              "      box-shadow: 0px 1px 2px rgba(60, 64, 67, 0.3), 0px 1px 3px 1px rgba(60, 64, 67, 0.15);\n",
              "      fill: #174EA6;\n",
              "    }\n",
              "\n",
              "    [theme=dark] .colab-df-convert {\n",
              "      background-color: #3B4455;\n",
              "      fill: #D2E3FC;\n",
              "    }\n",
              "\n",
              "    [theme=dark] .colab-df-convert:hover {\n",
              "      background-color: #434B5C;\n",
              "      box-shadow: 0px 1px 3px 1px rgba(0, 0, 0, 0.15);\n",
              "      filter: drop-shadow(0px 1px 2px rgba(0, 0, 0, 0.3));\n",
              "      fill: #FFFFFF;\n",
              "    }\n",
              "  </style>\n",
              "\n",
              "      <script>\n",
              "        const buttonEl =\n",
              "          document.querySelector('#df-c6a579e9-bf84-4411-a292-f8dc7db33e61 button.colab-df-convert');\n",
              "        buttonEl.style.display =\n",
              "          google.colab.kernel.accessAllowed ? 'block' : 'none';\n",
              "\n",
              "        async function convertToInteractive(key) {\n",
              "          const element = document.querySelector('#df-c6a579e9-bf84-4411-a292-f8dc7db33e61');\n",
              "          const dataTable =\n",
              "            await google.colab.kernel.invokeFunction('convertToInteractive',\n",
              "                                                     [key], {});\n",
              "          if (!dataTable) return;\n",
              "\n",
              "          const docLinkHtml = 'Like what you see? Visit the ' +\n",
              "            '<a target=\"_blank\" href=https://colab.research.google.com/notebooks/data_table.ipynb>data table notebook</a>'\n",
              "            + ' to learn more about interactive tables.';\n",
              "          element.innerHTML = '';\n",
              "          dataTable['output_type'] = 'display_data';\n",
              "          await google.colab.output.renderOutput(dataTable, element);\n",
              "          const docLink = document.createElement('div');\n",
              "          docLink.innerHTML = docLinkHtml;\n",
              "          element.appendChild(docLink);\n",
              "        }\n",
              "      </script>\n",
              "    </div>\n",
              "  </div>\n",
              "  "
            ]
          },
          "metadata": {},
          "execution_count": 7
        }
      ]
    },
    {
      "cell_type": "markdown",
      "source": [
        "# Manual Strategy testing"
      ],
      "metadata": {
        "id": "QMfIktT-wnff"
      }
    },
    {
      "cell_type": "code",
      "source": [
        "sell = False\n",
        "gap = 0.5\n",
        "avg_follow_up = 1"
      ],
      "metadata": {
        "id": "tGVfHdxDuFIA"
      },
      "execution_count": null,
      "outputs": []
    },
    {
      "cell_type": "markdown",
      "source": [
        "## Continuation pattern"
      ],
      "metadata": {
        "id": "GgZQ03o0l1_c"
      }
    },
    {
      "cell_type": "code",
      "source": [
        "cont = spy.copy()\n",
        "cont['Signal'] = np.where(cont['%GapUp'] > gap, 1, \n",
        "                 np.where((cont['%GapDn'] < -gap) & sell,-1,0))\n",
        "cont['Change'] = (cont['Close'] - cont['Open'])/cont['Open']\n",
        "cont['PosChange'] = np.where(cont['Signal'] != 0 ,cont['Change']+cont['Change'].shift(-int(avg_follow_up)), 0)\n",
        "cont"
      ],
      "metadata": {
        "id": "Y6H_SkTFl0V9"
      },
      "execution_count": null,
      "outputs": []
    },
    {
      "cell_type": "markdown",
      "source": [
        "## Reversion pattern"
      ],
      "metadata": {
        "id": "dzWkVjg2ml5k"
      }
    },
    {
      "cell_type": "code",
      "source": [
        "rev = spy.copy()\n",
        "rev['Signal'] = np.where(rev['%GapDn'] < -gap, 1, \n",
        "                np.where((rev['%GapUp'] > gap) & sell,-1,0))\n",
        "rev['Change'] = (rev['Close'] - rev['Open'])/rev['Open']\n",
        "rev['PosChange'] = np.where(rev['Signal'] != 0 ,rev['Change']+rev['Change'].shift(-int(avg_follow_up)), 0)\n",
        "rev"
      ],
      "metadata": {
        "id": "5kqhecXKmeKM"
      },
      "execution_count": null,
      "outputs": []
    },
    {
      "cell_type": "markdown",
      "source": [
        "## Analysis"
      ],
      "metadata": {
        "id": "OvuqK3PVwgyY"
      }
    },
    {
      "cell_type": "code",
      "source": [
        "trades = {\n",
        "    'Reversion': rev[rev['Signal'] != 0],\n",
        "    'Continuation': cont[cont['Signal'] != 0]\n",
        "}\n",
        "\n",
        "for t in trades:\n",
        "    temp = trades[t]\n",
        "    n_win = len(temp[(temp['PosChange']*temp['Signal'] > 0)])\n",
        "    n_loss = len(temp[(temp['PosChange']*temp['Signal'] < 0)])\n",
        "    n_total = len(temp[(temp['PosChange']*temp['Signal'] != 0)])\n",
        "    avg_win = temp['PosChange'][(temp['PosChange']*temp['Signal'] > 0)].mean()\n",
        "    avg_loss = temp['PosChange'][(temp['PosChange']*temp['Signal'] < 0)].mean()\n",
        "    winrate = n_win/(n_total)\n",
        "    spec = (avg_win*winrate-(1-winrate)*abs(avg_loss))\n",
        "    freq = n_total / (datetime.datetime.strptime(spy.index[-1],'%Y-%m-%d %H:%M:%S') \\\n",
        "                      - datetime.datetime.strptime(spy.index[0],'%Y-%m-%d %H:%M:%S')).days\n",
        "    print(t+'--------------------------------------------------------------------------')\n",
        "    print('Avg. move: ',temp['PosChange'].mean()*1000000//1/10000,'%')\n",
        "    print('#Win: ',n_win)\n",
        "    print('Avg. win: ',avg_win*1000000//1/10000,'%')\n",
        "    print('#Loss: ',n_loss)\n",
        "    print('Avg. loss: ',avg_loss*1000000//1/10000,'%')\n",
        "    print('Winrate: ',winrate*10000//1/100,'%')\n",
        "    print('Trade Expectancy: ',spec*1000000//1/10000, '%')\n",
        "    print('Monthly Expectancy: ',((1+spec)**(20*freq) - 1)*1000000//1/10000, '%')\n",
        "    print('Yearly Expectancy: ',((1+spec)**(5*52*freq) - 1)*1000000//1/10000, '%')\n",
        "    print('')"
      ],
      "metadata": {
        "id": "G5ETBwGkpsZt"
      },
      "execution_count": null,
      "outputs": []
    },
    {
      "cell_type": "markdown",
      "source": [
        "# Parameters testing"
      ],
      "metadata": {
        "id": "5yCR-u3T4L2A"
      }
    },
    {
      "cell_type": "code",
      "source": [
        "def signals(df:pd.DataFrame,strat:str='continuation',gap:float=0.0,hold:int=1,\n",
        "            sell:bool=True,overnight:bool=False) -> pd.DataFrame:\n",
        "\n",
        "    '''\n",
        "    Generates signals and returns.\n",
        "\n",
        "    Parameters\n",
        "    ----------\n",
        "    df: pd.DataFrame\n",
        "        DataFrame containing all the data and needed features.\n",
        "    strat: str\n",
        "        String with the strategy for the signals.\n",
        "    gap: float\n",
        "        Gap Percentage to look for.\n",
        "    hold: int\n",
        "        Number of days to hold the position.\n",
        "    sell: bool\n",
        "        False to go only long.\n",
        "    overnight: bool\n",
        "        True to hold positions overnight.\n",
        "    \n",
        "    Returns\n",
        "    -------\n",
        "    df: pd.DataFrame\n",
        "        Contains the input data as DataFrame and the signals and position change.\n",
        "    '''\n",
        "\n",
        "    if strat in ['Reversion','reversion']:\n",
        "        df['Signal'] = np.where(df['%GapDn'] < -gap, 1, \n",
        "                        np.where((df['%GapUp'] > gap) & sell,-1,0))\n",
        "    elif strat in ['Continuation','continuation']:\n",
        "        df['Signal'] = np.where(df['%GapUp'] > gap, 1, \n",
        "                        np.where((df['%GapDn'] < -gap) & sell,-1,0))\n",
        "    else:\n",
        "        raise ValueError('No strategy with that name. Must be: continuation or reversion.')\n",
        "\n",
        "    if overnight:\n",
        "        df['PosChange'] = np.where(df['Signal'] != 0 ,(df['Close'].shift(1-int(hold))-df['Open'])/df['Open'], 0)\n",
        "    else:\n",
        "        df['Change'] = (df['Close'] - df['Open'])/df['Open']\n",
        "\n",
        "        price_change = df['Change'].tolist()\n",
        "        signal = df['Signal'].tolist()\n",
        "        pos_change = []\n",
        "        for i in range(len(price_change)):\n",
        "            if signal[i] != 0:\n",
        "                pos_change.append(np.prod([j+1 for j in price_change[i:i+hold]]) - 1)\n",
        "            else:\n",
        "                pos_change.append(0.0)\n",
        "\n",
        "        df['PosChange'] = pos_change\n",
        "    \n",
        "    return df\n",
        "\n",
        "def stats(df:pd.DataFrame,trades:pd.DataFrame,show:bool=True) -> dict:\n",
        "\n",
        "    '''\n",
        "    Generates trading statistics.\n",
        "\n",
        "    Parameters\n",
        "    ----------\n",
        "    df: pd.DataFrame\n",
        "        DataFrame containing all the data and needed features.\n",
        "    trades: str\n",
        "        DataFrame containing only the trades.\n",
        "    show: bool\n",
        "        True to print the statistics.\n",
        "    \n",
        "    Returns\n",
        "    -------\n",
        "    stats: dict\n",
        "        Contains the input data as DataFrame and the signals and position change.\n",
        "    '''\n",
        "\n",
        "\n",
        "    n_win = len(trades[(trades['PosChange']*trades['Signal'] > 0)])\n",
        "    n_loss = len(trades[(trades['PosChange']*trades['Signal'] < 0)])\n",
        "    n_total = len(trades[(trades['PosChange']*trades['Signal'] != 0)])\n",
        "    avg_win = abs(trades['PosChange'][(trades['PosChange']*trades['Signal'] > 0)]).mean()\n",
        "    avg_loss = abs(trades['PosChange'][(trades['PosChange']*trades['Signal'] < 0)]).mean()\n",
        "    winrate = n_win/(n_total)\n",
        "    expec = (avg_win*winrate-(1-winrate)*abs(avg_loss))\n",
        "    freq = n_total / (df.index[-1].to_pydatetime() \\\n",
        "                      - df.index[0].to_pydatetime()).days\n",
        "\n",
        "    stats_dict = {'Winrate':winrate, '#Wins':n_win, '#Loss':n_loss, '#Trades':n_total, \n",
        "                  'AvgWin':avg_win,'AvgLoss':avg_loss,'RR':abs(avg_win/avg_loss),\n",
        "                  'Kelly':expec/avg_win,'Expectancy':expec,'Frequency':freq,\n",
        "                  'MonthExp':((1+expec)**(20*freq)-1),'YearExp':((1+expec)**(5*52*freq)-1)}\n",
        "\n",
        "    if show:\n",
        "        print('Avg. move: ',trades['PosChange'].mean()*1000000//1/10000,'%')\n",
        "        print('#Win: ',n_win,' #Loss: ',n_loss,' Winrate: ',winrate*10000//1/100,'%')\n",
        "        print('Avg. win: ',avg_win*1000000//1/10000,'%',' Avg. loss: ',avg_loss*1000000//1/10000,'%')\n",
        "        print('Trade Expectancy: ',expec*1000000//1/10000, '%')\n",
        "        print('Monthly Expectancy: ',((1+expec)**(20*freq) - 1)*1000000//1/10000, '%')\n",
        "        print('Yearly Expectancy: ',((1+expec)**(5*52*freq) - 1)*1000000//1/10000, '%')\n",
        "        print('')\n",
        "\n",
        "    return stats_dict\n",
        "\n",
        "def surfacePlot(df:pd.DataFrame):\n",
        "\n",
        "    '''\n",
        "    Plots surface to compare the tested parameters.\n",
        "\n",
        "    Parameters\n",
        "    ----------\n",
        "    df: pd.DataFrame\n",
        "        DataFrame containing all the data and needed features.\n",
        "    '''\n",
        "\n",
        "    print(df[0.4].iloc[1])\n",
        "    fig = go.Figure(data=[go.Surface(x=df.index,y=df.columns,z=df.values)])\n",
        "    fig.update_traces(contours_z=dict(show=True, usecolormap=True, highlightcolor=\"limegreen\", project_z=True),\n",
        "                        contours_y=dict(show=True, usecolormap=True, highlightcolor=\"limegreen\", project_y=True),\n",
        "                        contours_x=dict(show=True, usecolormap=True, highlightcolor=\"limegreen\", project_x=True))\n",
        "    fig.update_layout(title=f'{s} Anual expectancy', autosize=False,\n",
        "                        width=1000,\n",
        "                        height=700,\n",
        "                        scene = dict(\n",
        "                            xaxis_title='Hold Candles',\n",
        "                            yaxis_title='Gap (%)',\n",
        "                            zaxis_title='Return (%)'),\n",
        "        )\n",
        "\n",
        "    fig.show()\n"
      ],
      "metadata": {
        "id": "ZQyH1FpX5094"
      },
      "execution_count": null,
      "outputs": []
    },
    {
      "cell_type": "code",
      "source": [
        "strats = {'Reversion':{},'Continuation':{}}\n",
        "test = {}\n",
        "gap = [i/100 for i in range(0,200+10,10)]\n",
        "hold = range(1,20+1,1)\n",
        "for s in strats:\n",
        "    test[s] = {}\n",
        "    for g in gap:\n",
        "        test[s][g] = {}\n",
        "        for h in hold:\n",
        "            strats[s][str(g)+' '+str(h)] = {}\n",
        "            #print(s+f'(gap={g},hold={h})--------------------------------------------------------------------------')\n",
        "            data_raw = signals(spy,strat=s,gap=g,hold=h,sell=True,overnight=True)\n",
        "            strats[s][str(g)+' '+str(h)]['Data'] = data_raw\n",
        "            strats[s][str(g)+' '+str(h)]['Trades'] = data_raw[ data_raw['Signal'] != 0 ]\n",
        "            strats[s][str(g)+' '+str(h)]['Stats'] = stats(spy,data_raw,show=False)\n",
        "            test[s][g][h] = strats[s][str(g)+' '+str(h)]['Stats']['YearExp']*10000//1/100\n",
        "    test[s] = pd.DataFrame(test[s])\n",
        "    surfacePlot(test[s])"
      ],
      "metadata": {
        "colab": {
          "base_uri": "https://localhost:8080/",
          "height": 1000
        },
        "id": "mWlkFHCq4Nrg",
        "outputId": "7a6995d9-1407-4321-dc77-00f64a679fe2"
      },
      "execution_count": null,
      "outputs": [
        {
          "output_type": "stream",
          "name": "stdout",
          "text": [
            "-6.19\n"
          ]
        },
        {
          "output_type": "display_data",
          "data": {
            "text/html": [
              "<html>\n",
              "<head><meta charset=\"utf-8\" /></head>\n",
              "<body>\n",
              "    <div>            <script src=\"https://cdnjs.cloudflare.com/ajax/libs/mathjax/2.7.5/MathJax.js?config=TeX-AMS-MML_SVG\"></script><script type=\"text/javascript\">if (window.MathJax) {MathJax.Hub.Config({SVG: {font: \"STIX-Web\"}});}</script>                <script type=\"text/javascript\">window.PlotlyConfig = {MathJaxConfig: 'local'};</script>\n",
              "        <script src=\"https://cdn.plot.ly/plotly-2.8.3.min.js\"></script>                <div id=\"e4db43f5-0891-4c05-bd28-dc33c6eb0e64\" class=\"plotly-graph-div\" style=\"height:700px; width:1000px;\"></div>            <script type=\"text/javascript\">                                    window.PLOTLYENV=window.PLOTLYENV || {};                                    if (document.getElementById(\"e4db43f5-0891-4c05-bd28-dc33c6eb0e64\")) {                    Plotly.newPlot(                        \"e4db43f5-0891-4c05-bd28-dc33c6eb0e64\",                        [{\"x\":[1,2,3,4,5,6,7,8,9,10,11,12,13,14,15,16,17,18,19,20],\"y\":[0.0,0.1,0.2,0.3,0.4,0.5,0.6,0.7,0.8,0.9,1.0,1.1,1.2,1.3,1.4,1.5,1.6,1.7,1.8,1.9,2.0],\"z\":[[-3.2,-5.4,-3.86,-2.82,-3.84,-6.93,-5.22,-3.84,-2.28,-3.19,-0.77,1.57,1.95,2.22,0.94,-0.03,-0.58,0.44,0.82,1.4,1.4],[-6.87,-10.19,-6.34,-5.23,-6.19,-9.85,-4.65,-1.21,2.14,0.09,2.02,6.73,7.16,5.42,3.99,3.07,1.51,2.37,2.03,2.26,2.26],[-6.63,-10.79,-9.59,-8.56,-8.64,-13.5,-10.8,-6.09,-2.53,-3.9,-1.74,3.86,3.51,3.37,1.3,1.22,1.31,2.86,3.17,3.77,3.77],[-8.36,-11.65,-11.34,-8.22,-11.04,-13.85,-16.27,-8.08,-1.16,-1.79,1.16,4.41,2.2,2.28,-0.45,0.08,-0.14,2.04,2.32,2.53,2.53],[-13.15,-15.43,-13.2,-11.72,-16.18,-16.54,-18.47,-12.68,-6.37,-2.3,3.48,6.1,3.54,4.15,1.13,1.64,-1.23,2.86,2.67,2.24,2.24],[-15.73,-12.97,-10.44,-2.62,-7.54,-13.76,-15.81,-11.98,-7.76,-2.8,3.94,4.15,2.16,1.04,3.35,4.34,1.68,4.48,4.1,2.85,2.85],[-10.17,-7.15,-4.29,3.49,-5.1,-5.64,-12.11,-10.35,-7.81,-5.19,2.75,2.55,3.0,1.94,4.8,5.61,1.53,4.28,4.04,2.06,2.06],[-14.46,-8.62,-6.9,-1.89,-9.69,-8.87,-15.92,-14.4,-10.66,-5.59,0.43,0.16,-0.84,-2.71,0.46,1.71,-1.11,2.53,2.62,0.66,0.66],[-11.66,-3.46,-2.93,-3.89,-8.0,-10.85,-17.3,-14.84,-8.26,-1.86,2.86,-0.38,-2.0,-3.88,-0.02,1.16,-1.22,3.15,3.8,1.35,1.35],[-27.48,-14.88,-11.59,-8.87,-15.75,-15.28,-18.31,-13.49,-8.65,-3.41,-2.06,-3.59,-1.86,-3.33,0.47,1.95,0.33,3.03,4.08,1.69,1.69],[-19.99,-8.64,-2.35,-2.32,-14.67,-15.31,-14.17,-10.17,-5.06,-0.4,0.87,-0.23,-0.09,-1.23,3.72,4.23,0.59,3.42,4.11,1.43,1.43],[-21.75,-9.38,-8.21,-8.31,-18.65,-18.63,-17.96,-13.69,-8.6,-6.12,-1.56,-2.96,-4.79,-4.79,-1.69,-2.01,-3.79,0.65,2.15,-0.12,-0.12],[-15.31,-2.65,-3.35,-2.16,-14.12,-12.26,-10.14,-4.93,-3.38,-4.76,-2.92,-3.02,-5.3,-5.57,-2.7,-1.79,-3.36,0.71,2.12,-0.69,-0.69],[-22.58,-10.82,-6.69,-7.37,-16.84,-12.32,-8.13,-7.11,-7.49,-7.36,-5.81,-3.5,-5.04,-4.72,-1.91,-1.21,-1.56,3.12,3.98,0.67,0.67],[-23.12,-13.51,-2.63,-2.67,-14.05,-6.78,-4.84,-5.13,-2.11,-3.62,-1.59,2.95,-0.64,-2.67,0.17,1.67,-0.26,4.05,4.32,1.21,1.21],[-22.77,-15.87,-7.91,-4.95,-15.82,-8.07,-4.73,-5.04,2.0,2.12,1.85,5.41,2.11,-0.9,1.78,2.53,-0.35,3.4,3.86,1.23,1.23],[-33.82,-29.66,-20.85,-13.66,-22.57,-12.89,-8.85,-6.37,-2.36,1.44,-0.27,2.68,2.49,-0.58,2.94,3.52,2.35,4.89,5.08,2.27,2.27],[-38.35,-31.9,-21.91,-12.09,-23.22,-13.6,-8.32,-2.87,1.68,2.55,-3.31,1.47,2.3,-0.64,4.37,5.05,2.43,4.51,4.47,1.93,1.93],[-37.12,-29.23,-15.48,-4.86,-20.13,-12.5,-7.54,-1.39,2.88,3.1,-2.78,3.37,2.6,-0.33,3.64,3.73,3.14,3.69,4.0,1.24,1.24],[-40.08,-31.85,-19.91,-11.1,-21.87,-16.23,-8.26,-3.17,2.1,2.24,-4.51,3.04,1.73,-0.82,4.38,3.75,3.54,5.42,5.07,1.67,1.67]],\"type\":\"surface\",\"contours\":{\"z\":{\"project\":{\"z\":true},\"highlightcolor\":\"limegreen\",\"show\":true,\"usecolormap\":true},\"y\":{\"project\":{\"y\":true},\"highlightcolor\":\"limegreen\",\"show\":true,\"usecolormap\":true},\"x\":{\"project\":{\"x\":true},\"highlightcolor\":\"limegreen\",\"show\":true,\"usecolormap\":true}}}],                        {\"template\":{\"data\":{\"bar\":[{\"error_x\":{\"color\":\"#2a3f5f\"},\"error_y\":{\"color\":\"#2a3f5f\"},\"marker\":{\"line\":{\"color\":\"#E5ECF6\",\"width\":0.5},\"pattern\":{\"fillmode\":\"overlay\",\"size\":10,\"solidity\":0.2}},\"type\":\"bar\"}],\"barpolar\":[{\"marker\":{\"line\":{\"color\":\"#E5ECF6\",\"width\":0.5},\"pattern\":{\"fillmode\":\"overlay\",\"size\":10,\"solidity\":0.2}},\"type\":\"barpolar\"}],\"carpet\":[{\"aaxis\":{\"endlinecolor\":\"#2a3f5f\",\"gridcolor\":\"white\",\"linecolor\":\"white\",\"minorgridcolor\":\"white\",\"startlinecolor\":\"#2a3f5f\"},\"baxis\":{\"endlinecolor\":\"#2a3f5f\",\"gridcolor\":\"white\",\"linecolor\":\"white\",\"minorgridcolor\":\"white\",\"startlinecolor\":\"#2a3f5f\"},\"type\":\"carpet\"}],\"choropleth\":[{\"colorbar\":{\"outlinewidth\":0,\"ticks\":\"\"},\"type\":\"choropleth\"}],\"contour\":[{\"colorbar\":{\"outlinewidth\":0,\"ticks\":\"\"},\"colorscale\":[[0.0,\"#0d0887\"],[0.1111111111111111,\"#46039f\"],[0.2222222222222222,\"#7201a8\"],[0.3333333333333333,\"#9c179e\"],[0.4444444444444444,\"#bd3786\"],[0.5555555555555556,\"#d8576b\"],[0.6666666666666666,\"#ed7953\"],[0.7777777777777778,\"#fb9f3a\"],[0.8888888888888888,\"#fdca26\"],[1.0,\"#f0f921\"]],\"type\":\"contour\"}],\"contourcarpet\":[{\"colorbar\":{\"outlinewidth\":0,\"ticks\":\"\"},\"type\":\"contourcarpet\"}],\"heatmap\":[{\"colorbar\":{\"outlinewidth\":0,\"ticks\":\"\"},\"colorscale\":[[0.0,\"#0d0887\"],[0.1111111111111111,\"#46039f\"],[0.2222222222222222,\"#7201a8\"],[0.3333333333333333,\"#9c179e\"],[0.4444444444444444,\"#bd3786\"],[0.5555555555555556,\"#d8576b\"],[0.6666666666666666,\"#ed7953\"],[0.7777777777777778,\"#fb9f3a\"],[0.8888888888888888,\"#fdca26\"],[1.0,\"#f0f921\"]],\"type\":\"heatmap\"}],\"heatmapgl\":[{\"colorbar\":{\"outlinewidth\":0,\"ticks\":\"\"},\"colorscale\":[[0.0,\"#0d0887\"],[0.1111111111111111,\"#46039f\"],[0.2222222222222222,\"#7201a8\"],[0.3333333333333333,\"#9c179e\"],[0.4444444444444444,\"#bd3786\"],[0.5555555555555556,\"#d8576b\"],[0.6666666666666666,\"#ed7953\"],[0.7777777777777778,\"#fb9f3a\"],[0.8888888888888888,\"#fdca26\"],[1.0,\"#f0f921\"]],\"type\":\"heatmapgl\"}],\"histogram\":[{\"marker\":{\"pattern\":{\"fillmode\":\"overlay\",\"size\":10,\"solidity\":0.2}},\"type\":\"histogram\"}],\"histogram2d\":[{\"colorbar\":{\"outlinewidth\":0,\"ticks\":\"\"},\"colorscale\":[[0.0,\"#0d0887\"],[0.1111111111111111,\"#46039f\"],[0.2222222222222222,\"#7201a8\"],[0.3333333333333333,\"#9c179e\"],[0.4444444444444444,\"#bd3786\"],[0.5555555555555556,\"#d8576b\"],[0.6666666666666666,\"#ed7953\"],[0.7777777777777778,\"#fb9f3a\"],[0.8888888888888888,\"#fdca26\"],[1.0,\"#f0f921\"]],\"type\":\"histogram2d\"}],\"histogram2dcontour\":[{\"colorbar\":{\"outlinewidth\":0,\"ticks\":\"\"},\"colorscale\":[[0.0,\"#0d0887\"],[0.1111111111111111,\"#46039f\"],[0.2222222222222222,\"#7201a8\"],[0.3333333333333333,\"#9c179e\"],[0.4444444444444444,\"#bd3786\"],[0.5555555555555556,\"#d8576b\"],[0.6666666666666666,\"#ed7953\"],[0.7777777777777778,\"#fb9f3a\"],[0.8888888888888888,\"#fdca26\"],[1.0,\"#f0f921\"]],\"type\":\"histogram2dcontour\"}],\"mesh3d\":[{\"colorbar\":{\"outlinewidth\":0,\"ticks\":\"\"},\"type\":\"mesh3d\"}],\"parcoords\":[{\"line\":{\"colorbar\":{\"outlinewidth\":0,\"ticks\":\"\"}},\"type\":\"parcoords\"}],\"pie\":[{\"automargin\":true,\"type\":\"pie\"}],\"scatter\":[{\"marker\":{\"colorbar\":{\"outlinewidth\":0,\"ticks\":\"\"}},\"type\":\"scatter\"}],\"scatter3d\":[{\"line\":{\"colorbar\":{\"outlinewidth\":0,\"ticks\":\"\"}},\"marker\":{\"colorbar\":{\"outlinewidth\":0,\"ticks\":\"\"}},\"type\":\"scatter3d\"}],\"scattercarpet\":[{\"marker\":{\"colorbar\":{\"outlinewidth\":0,\"ticks\":\"\"}},\"type\":\"scattercarpet\"}],\"scattergeo\":[{\"marker\":{\"colorbar\":{\"outlinewidth\":0,\"ticks\":\"\"}},\"type\":\"scattergeo\"}],\"scattergl\":[{\"marker\":{\"colorbar\":{\"outlinewidth\":0,\"ticks\":\"\"}},\"type\":\"scattergl\"}],\"scattermapbox\":[{\"marker\":{\"colorbar\":{\"outlinewidth\":0,\"ticks\":\"\"}},\"type\":\"scattermapbox\"}],\"scatterpolar\":[{\"marker\":{\"colorbar\":{\"outlinewidth\":0,\"ticks\":\"\"}},\"type\":\"scatterpolar\"}],\"scatterpolargl\":[{\"marker\":{\"colorbar\":{\"outlinewidth\":0,\"ticks\":\"\"}},\"type\":\"scatterpolargl\"}],\"scatterternary\":[{\"marker\":{\"colorbar\":{\"outlinewidth\":0,\"ticks\":\"\"}},\"type\":\"scatterternary\"}],\"surface\":[{\"colorbar\":{\"outlinewidth\":0,\"ticks\":\"\"},\"colorscale\":[[0.0,\"#0d0887\"],[0.1111111111111111,\"#46039f\"],[0.2222222222222222,\"#7201a8\"],[0.3333333333333333,\"#9c179e\"],[0.4444444444444444,\"#bd3786\"],[0.5555555555555556,\"#d8576b\"],[0.6666666666666666,\"#ed7953\"],[0.7777777777777778,\"#fb9f3a\"],[0.8888888888888888,\"#fdca26\"],[1.0,\"#f0f921\"]],\"type\":\"surface\"}],\"table\":[{\"cells\":{\"fill\":{\"color\":\"#EBF0F8\"},\"line\":{\"color\":\"white\"}},\"header\":{\"fill\":{\"color\":\"#C8D4E3\"},\"line\":{\"color\":\"white\"}},\"type\":\"table\"}]},\"layout\":{\"annotationdefaults\":{\"arrowcolor\":\"#2a3f5f\",\"arrowhead\":0,\"arrowwidth\":1},\"autotypenumbers\":\"strict\",\"coloraxis\":{\"colorbar\":{\"outlinewidth\":0,\"ticks\":\"\"}},\"colorscale\":{\"diverging\":[[0,\"#8e0152\"],[0.1,\"#c51b7d\"],[0.2,\"#de77ae\"],[0.3,\"#f1b6da\"],[0.4,\"#fde0ef\"],[0.5,\"#f7f7f7\"],[0.6,\"#e6f5d0\"],[0.7,\"#b8e186\"],[0.8,\"#7fbc41\"],[0.9,\"#4d9221\"],[1,\"#276419\"]],\"sequential\":[[0.0,\"#0d0887\"],[0.1111111111111111,\"#46039f\"],[0.2222222222222222,\"#7201a8\"],[0.3333333333333333,\"#9c179e\"],[0.4444444444444444,\"#bd3786\"],[0.5555555555555556,\"#d8576b\"],[0.6666666666666666,\"#ed7953\"],[0.7777777777777778,\"#fb9f3a\"],[0.8888888888888888,\"#fdca26\"],[1.0,\"#f0f921\"]],\"sequentialminus\":[[0.0,\"#0d0887\"],[0.1111111111111111,\"#46039f\"],[0.2222222222222222,\"#7201a8\"],[0.3333333333333333,\"#9c179e\"],[0.4444444444444444,\"#bd3786\"],[0.5555555555555556,\"#d8576b\"],[0.6666666666666666,\"#ed7953\"],[0.7777777777777778,\"#fb9f3a\"],[0.8888888888888888,\"#fdca26\"],[1.0,\"#f0f921\"]]},\"colorway\":[\"#636efa\",\"#EF553B\",\"#00cc96\",\"#ab63fa\",\"#FFA15A\",\"#19d3f3\",\"#FF6692\",\"#B6E880\",\"#FF97FF\",\"#FECB52\"],\"font\":{\"color\":\"#2a3f5f\"},\"geo\":{\"bgcolor\":\"white\",\"lakecolor\":\"white\",\"landcolor\":\"#E5ECF6\",\"showlakes\":true,\"showland\":true,\"subunitcolor\":\"white\"},\"hoverlabel\":{\"align\":\"left\"},\"hovermode\":\"closest\",\"mapbox\":{\"style\":\"light\"},\"paper_bgcolor\":\"white\",\"plot_bgcolor\":\"#E5ECF6\",\"polar\":{\"angularaxis\":{\"gridcolor\":\"white\",\"linecolor\":\"white\",\"ticks\":\"\"},\"bgcolor\":\"#E5ECF6\",\"radialaxis\":{\"gridcolor\":\"white\",\"linecolor\":\"white\",\"ticks\":\"\"}},\"scene\":{\"xaxis\":{\"backgroundcolor\":\"#E5ECF6\",\"gridcolor\":\"white\",\"gridwidth\":2,\"linecolor\":\"white\",\"showbackground\":true,\"ticks\":\"\",\"zerolinecolor\":\"white\"},\"yaxis\":{\"backgroundcolor\":\"#E5ECF6\",\"gridcolor\":\"white\",\"gridwidth\":2,\"linecolor\":\"white\",\"showbackground\":true,\"ticks\":\"\",\"zerolinecolor\":\"white\"},\"zaxis\":{\"backgroundcolor\":\"#E5ECF6\",\"gridcolor\":\"white\",\"gridwidth\":2,\"linecolor\":\"white\",\"showbackground\":true,\"ticks\":\"\",\"zerolinecolor\":\"white\"}},\"shapedefaults\":{\"line\":{\"color\":\"#2a3f5f\"}},\"ternary\":{\"aaxis\":{\"gridcolor\":\"white\",\"linecolor\":\"white\",\"ticks\":\"\"},\"baxis\":{\"gridcolor\":\"white\",\"linecolor\":\"white\",\"ticks\":\"\"},\"bgcolor\":\"#E5ECF6\",\"caxis\":{\"gridcolor\":\"white\",\"linecolor\":\"white\",\"ticks\":\"\"}},\"title\":{\"x\":0.05},\"xaxis\":{\"automargin\":true,\"gridcolor\":\"white\",\"linecolor\":\"white\",\"ticks\":\"\",\"title\":{\"standoff\":15},\"zerolinecolor\":\"white\",\"zerolinewidth\":2},\"yaxis\":{\"automargin\":true,\"gridcolor\":\"white\",\"linecolor\":\"white\",\"ticks\":\"\",\"title\":{\"standoff\":15},\"zerolinecolor\":\"white\",\"zerolinewidth\":2}}},\"title\":{\"text\":\"Reversion Anual expectancy\"},\"autosize\":false,\"width\":1000,\"height\":700,\"scene\":{\"xaxis\":{\"title\":{\"text\":\"Hold Candles\"}},\"yaxis\":{\"title\":{\"text\":\"Gap (%)\"}},\"zaxis\":{\"title\":{\"text\":\"Return (%)\"}}}},                        {\"responsive\": true}                    ).then(function(){\n",
              "                            \n",
              "var gd = document.getElementById('e4db43f5-0891-4c05-bd28-dc33c6eb0e64');\n",
              "var x = new MutationObserver(function (mutations, observer) {{\n",
              "        var display = window.getComputedStyle(gd).display;\n",
              "        if (!display || display === 'none') {{\n",
              "            console.log([gd, 'removed!']);\n",
              "            Plotly.purge(gd);\n",
              "            observer.disconnect();\n",
              "        }}\n",
              "}});\n",
              "\n",
              "// Listen for the removal of the full notebook cells\n",
              "var notebookContainer = gd.closest('#notebook-container');\n",
              "if (notebookContainer) {{\n",
              "    x.observe(notebookContainer, {childList: true});\n",
              "}}\n",
              "\n",
              "// Listen for the clearing of the current output cell\n",
              "var outputEl = gd.closest('.output');\n",
              "if (outputEl) {{\n",
              "    x.observe(outputEl, {childList: true});\n",
              "}}\n",
              "\n",
              "                        })                };                            </script>        </div>\n",
              "</body>\n",
              "</html>"
            ]
          },
          "metadata": {}
        },
        {
          "output_type": "stream",
          "name": "stdout",
          "text": [
            "6.58\n"
          ]
        },
        {
          "output_type": "display_data",
          "data": {
            "text/html": [
              "<html>\n",
              "<head><meta charset=\"utf-8\" /></head>\n",
              "<body>\n",
              "    <div>            <script src=\"https://cdnjs.cloudflare.com/ajax/libs/mathjax/2.7.5/MathJax.js?config=TeX-AMS-MML_SVG\"></script><script type=\"text/javascript\">if (window.MathJax) {MathJax.Hub.Config({SVG: {font: \"STIX-Web\"}});}</script>                <script type=\"text/javascript\">window.PlotlyConfig = {MathJaxConfig: 'local'};</script>\n",
              "        <script src=\"https://cdn.plot.ly/plotly-2.8.3.min.js\"></script>                <div id=\"c383d76d-ea9a-4376-b5a9-0cc15579acdf\" class=\"plotly-graph-div\" style=\"height:700px; width:1000px;\"></div>            <script type=\"text/javascript\">                                    window.PLOTLYENV=window.PLOTLYENV || {};                                    if (document.getElementById(\"c383d76d-ea9a-4376-b5a9-0cc15579acdf\")) {                    Plotly.newPlot(                        \"c383d76d-ea9a-4376-b5a9-0cc15579acdf\",                        [{\"x\":[1,2,3,4,5,6,7,8,9,10,11,12,13,14,15,16,17,18,19,20],\"y\":[0.0,0.1,0.2,0.3,0.4,0.5,0.6,0.7,0.8,0.9,1.0,1.1,1.2,1.3,1.4,1.5,1.6,1.7,1.8,1.9,2.0],\"z\":[[3.3,5.7,4.0,2.89,3.99,7.43,5.49,3.98,2.32,3.28,0.77,-1.56,-1.92,-2.18,-0.94,0.02,0.57,-0.45,-0.82,-1.4,-1.4],[6.53,11.33,6.76,5.5,6.58,10.9,4.86,1.22,-2.11,-0.1,-1.99,-6.34,-6.72,-5.18,-3.86,-3.01,-1.51,-2.34,-2.02,-2.25,-2.25],[5.05,10.95,9.41,8.1,8.12,14.19,10.69,5.1,1.13,2.54,0.27,-3.74,-3.41,-3.28,-1.3,-1.22,-1.31,-2.83,-3.12,-3.72,-3.72],[5.47,10.47,9.95,6.07,9.26,12.85,16.0,5.59,-2.06,0.2,-2.77,-4.24,-2.16,-2.25,0.44,-0.09,0.13,-2.02,-2.3,-2.51,-2.51],[9.4,13.56,10.44,8.35,13.86,14.28,16.7,8.7,0.81,-1.46,-7.13,-7.39,-4.96,-4.0,-1.13,-1.63,1.23,-2.82,-2.64,-2.23,-2.23],[10.65,8.46,5.05,-3.66,1.28,8.51,10.76,5.49,-0.3,-3.48,-9.96,-7.6,-5.63,-2.95,-3.26,-4.2,-1.67,-4.38,-4.03,-2.82,-2.82],[1.76,-0.21,-3.61,-11.22,-3.51,-3.17,3.62,0.89,-2.94,-3.33,-10.62,-7.81,-7.88,-5.4,-6.45,-7.38,-1.52,-4.18,-3.97,-2.05,-2.05],[4.5,-0.68,-1.42,-6.86,0.78,-0.39,7.76,5.09,-0.19,-2.88,-8.66,-5.99,-4.58,-0.89,-2.26,-3.57,1.11,-2.5,-2.59,-0.67,-0.67],[-1.16,-8.14,-7.48,-7.0,-3.54,-0.81,6.64,2.72,-3.13,-6.91,-11.21,-5.83,-4.06,-0.17,-2.13,-3.27,1.22,-3.1,-3.73,-1.35,-1.35],[17.27,1.46,-1.0,-4.45,2.36,3.64,6.94,0.52,-3.46,-6.13,-7.5,-3.16,-4.21,-0.47,-2.42,-3.9,-0.34,-2.99,-4.0,-1.69,-1.69],[3.44,-8.04,-12.62,-13.0,-1.49,3.06,0.95,-3.99,-7.65,-9.28,-10.63,-7.03,-6.35,-3.07,-5.6,-5.91,-0.6,-3.37,-4.03,-1.44,-1.44],[3.01,-7.86,-7.42,-7.65,3.28,7.21,6.02,0.43,-3.63,-3.37,-7.84,-4.07,-1.63,0.64,-0.41,-0.12,3.89,-0.66,-2.14,0.11,0.11],[-7.62,-16.6,-14.62,-15.98,-4.8,-2.85,-5.44,-11.07,-10.81,-6.83,-8.55,-6.03,-2.96,-0.46,-1.1,-0.19,3.44,-0.71,-2.1,0.68,0.68],[-2.02,-11.6,-12.26,-11.92,-2.44,-3.24,-7.89,-9.41,-7.35,-4.66,-6.42,-5.97,-3.52,-1.8,-2.53,-1.0,1.57,-3.08,-3.91,-0.68,-0.68],[-4.13,-11.37,-18.08,-18.42,-7.99,-11.35,-13.32,-13.55,-14.73,-10.47,-12.45,-11.6,-7.94,-3.85,-4.83,-3.92,0.25,-3.97,-4.23,-1.22,-1.22],[-7.26,-11.22,-13.63,-16.67,-6.03,-9.82,-13.43,-13.84,-18.31,-15.79,-15.2,-13.62,-10.62,-5.57,-6.49,-4.69,0.34,-3.34,-3.79,-1.23,-1.23],[4.62,2.98,-2.61,-10.92,-1.2,-5.46,-10.28,-13.21,-15.63,-15.99,-14.27,-12.03,-11.12,-6.01,-7.3,-5.56,-2.32,-4.76,-4.95,-2.25,-2.25],[8.81,2.92,-4.44,-13.29,-1.04,-5.62,-11.56,-17.14,-19.83,-17.6,-12.42,-11.5,-11.27,-6.28,-8.72,-7.01,-2.39,-4.4,-4.38,-1.92,-1.92],[3.28,-3.64,-13.86,-21.96,-7.41,-9.4,-14.72,-20.94,-23.48,-18.63,-13.32,-13.31,-11.77,-6.71,-8.41,-5.94,-3.08,-3.62,-3.92,-1.24,-1.24],[5.13,-3.2,-11.66,-18.63,-8.2,-8.05,-16.86,-20.28,-23.16,-17.99,-12.11,-13.48,-11.71,-6.9,-9.52,-6.15,-3.46,-5.26,-4.95,-1.67,-1.67]],\"type\":\"surface\",\"contours\":{\"z\":{\"project\":{\"z\":true},\"highlightcolor\":\"limegreen\",\"show\":true,\"usecolormap\":true},\"y\":{\"project\":{\"y\":true},\"highlightcolor\":\"limegreen\",\"show\":true,\"usecolormap\":true},\"x\":{\"project\":{\"x\":true},\"highlightcolor\":\"limegreen\",\"show\":true,\"usecolormap\":true}}}],                        {\"template\":{\"data\":{\"bar\":[{\"error_x\":{\"color\":\"#2a3f5f\"},\"error_y\":{\"color\":\"#2a3f5f\"},\"marker\":{\"line\":{\"color\":\"#E5ECF6\",\"width\":0.5},\"pattern\":{\"fillmode\":\"overlay\",\"size\":10,\"solidity\":0.2}},\"type\":\"bar\"}],\"barpolar\":[{\"marker\":{\"line\":{\"color\":\"#E5ECF6\",\"width\":0.5},\"pattern\":{\"fillmode\":\"overlay\",\"size\":10,\"solidity\":0.2}},\"type\":\"barpolar\"}],\"carpet\":[{\"aaxis\":{\"endlinecolor\":\"#2a3f5f\",\"gridcolor\":\"white\",\"linecolor\":\"white\",\"minorgridcolor\":\"white\",\"startlinecolor\":\"#2a3f5f\"},\"baxis\":{\"endlinecolor\":\"#2a3f5f\",\"gridcolor\":\"white\",\"linecolor\":\"white\",\"minorgridcolor\":\"white\",\"startlinecolor\":\"#2a3f5f\"},\"type\":\"carpet\"}],\"choropleth\":[{\"colorbar\":{\"outlinewidth\":0,\"ticks\":\"\"},\"type\":\"choropleth\"}],\"contour\":[{\"colorbar\":{\"outlinewidth\":0,\"ticks\":\"\"},\"colorscale\":[[0.0,\"#0d0887\"],[0.1111111111111111,\"#46039f\"],[0.2222222222222222,\"#7201a8\"],[0.3333333333333333,\"#9c179e\"],[0.4444444444444444,\"#bd3786\"],[0.5555555555555556,\"#d8576b\"],[0.6666666666666666,\"#ed7953\"],[0.7777777777777778,\"#fb9f3a\"],[0.8888888888888888,\"#fdca26\"],[1.0,\"#f0f921\"]],\"type\":\"contour\"}],\"contourcarpet\":[{\"colorbar\":{\"outlinewidth\":0,\"ticks\":\"\"},\"type\":\"contourcarpet\"}],\"heatmap\":[{\"colorbar\":{\"outlinewidth\":0,\"ticks\":\"\"},\"colorscale\":[[0.0,\"#0d0887\"],[0.1111111111111111,\"#46039f\"],[0.2222222222222222,\"#7201a8\"],[0.3333333333333333,\"#9c179e\"],[0.4444444444444444,\"#bd3786\"],[0.5555555555555556,\"#d8576b\"],[0.6666666666666666,\"#ed7953\"],[0.7777777777777778,\"#fb9f3a\"],[0.8888888888888888,\"#fdca26\"],[1.0,\"#f0f921\"]],\"type\":\"heatmap\"}],\"heatmapgl\":[{\"colorbar\":{\"outlinewidth\":0,\"ticks\":\"\"},\"colorscale\":[[0.0,\"#0d0887\"],[0.1111111111111111,\"#46039f\"],[0.2222222222222222,\"#7201a8\"],[0.3333333333333333,\"#9c179e\"],[0.4444444444444444,\"#bd3786\"],[0.5555555555555556,\"#d8576b\"],[0.6666666666666666,\"#ed7953\"],[0.7777777777777778,\"#fb9f3a\"],[0.8888888888888888,\"#fdca26\"],[1.0,\"#f0f921\"]],\"type\":\"heatmapgl\"}],\"histogram\":[{\"marker\":{\"pattern\":{\"fillmode\":\"overlay\",\"size\":10,\"solidity\":0.2}},\"type\":\"histogram\"}],\"histogram2d\":[{\"colorbar\":{\"outlinewidth\":0,\"ticks\":\"\"},\"colorscale\":[[0.0,\"#0d0887\"],[0.1111111111111111,\"#46039f\"],[0.2222222222222222,\"#7201a8\"],[0.3333333333333333,\"#9c179e\"],[0.4444444444444444,\"#bd3786\"],[0.5555555555555556,\"#d8576b\"],[0.6666666666666666,\"#ed7953\"],[0.7777777777777778,\"#fb9f3a\"],[0.8888888888888888,\"#fdca26\"],[1.0,\"#f0f921\"]],\"type\":\"histogram2d\"}],\"histogram2dcontour\":[{\"colorbar\":{\"outlinewidth\":0,\"ticks\":\"\"},\"colorscale\":[[0.0,\"#0d0887\"],[0.1111111111111111,\"#46039f\"],[0.2222222222222222,\"#7201a8\"],[0.3333333333333333,\"#9c179e\"],[0.4444444444444444,\"#bd3786\"],[0.5555555555555556,\"#d8576b\"],[0.6666666666666666,\"#ed7953\"],[0.7777777777777778,\"#fb9f3a\"],[0.8888888888888888,\"#fdca26\"],[1.0,\"#f0f921\"]],\"type\":\"histogram2dcontour\"}],\"mesh3d\":[{\"colorbar\":{\"outlinewidth\":0,\"ticks\":\"\"},\"type\":\"mesh3d\"}],\"parcoords\":[{\"line\":{\"colorbar\":{\"outlinewidth\":0,\"ticks\":\"\"}},\"type\":\"parcoords\"}],\"pie\":[{\"automargin\":true,\"type\":\"pie\"}],\"scatter\":[{\"marker\":{\"colorbar\":{\"outlinewidth\":0,\"ticks\":\"\"}},\"type\":\"scatter\"}],\"scatter3d\":[{\"line\":{\"colorbar\":{\"outlinewidth\":0,\"ticks\":\"\"}},\"marker\":{\"colorbar\":{\"outlinewidth\":0,\"ticks\":\"\"}},\"type\":\"scatter3d\"}],\"scattercarpet\":[{\"marker\":{\"colorbar\":{\"outlinewidth\":0,\"ticks\":\"\"}},\"type\":\"scattercarpet\"}],\"scattergeo\":[{\"marker\":{\"colorbar\":{\"outlinewidth\":0,\"ticks\":\"\"}},\"type\":\"scattergeo\"}],\"scattergl\":[{\"marker\":{\"colorbar\":{\"outlinewidth\":0,\"ticks\":\"\"}},\"type\":\"scattergl\"}],\"scattermapbox\":[{\"marker\":{\"colorbar\":{\"outlinewidth\":0,\"ticks\":\"\"}},\"type\":\"scattermapbox\"}],\"scatterpolar\":[{\"marker\":{\"colorbar\":{\"outlinewidth\":0,\"ticks\":\"\"}},\"type\":\"scatterpolar\"}],\"scatterpolargl\":[{\"marker\":{\"colorbar\":{\"outlinewidth\":0,\"ticks\":\"\"}},\"type\":\"scatterpolargl\"}],\"scatterternary\":[{\"marker\":{\"colorbar\":{\"outlinewidth\":0,\"ticks\":\"\"}},\"type\":\"scatterternary\"}],\"surface\":[{\"colorbar\":{\"outlinewidth\":0,\"ticks\":\"\"},\"colorscale\":[[0.0,\"#0d0887\"],[0.1111111111111111,\"#46039f\"],[0.2222222222222222,\"#7201a8\"],[0.3333333333333333,\"#9c179e\"],[0.4444444444444444,\"#bd3786\"],[0.5555555555555556,\"#d8576b\"],[0.6666666666666666,\"#ed7953\"],[0.7777777777777778,\"#fb9f3a\"],[0.8888888888888888,\"#fdca26\"],[1.0,\"#f0f921\"]],\"type\":\"surface\"}],\"table\":[{\"cells\":{\"fill\":{\"color\":\"#EBF0F8\"},\"line\":{\"color\":\"white\"}},\"header\":{\"fill\":{\"color\":\"#C8D4E3\"},\"line\":{\"color\":\"white\"}},\"type\":\"table\"}]},\"layout\":{\"annotationdefaults\":{\"arrowcolor\":\"#2a3f5f\",\"arrowhead\":0,\"arrowwidth\":1},\"autotypenumbers\":\"strict\",\"coloraxis\":{\"colorbar\":{\"outlinewidth\":0,\"ticks\":\"\"}},\"colorscale\":{\"diverging\":[[0,\"#8e0152\"],[0.1,\"#c51b7d\"],[0.2,\"#de77ae\"],[0.3,\"#f1b6da\"],[0.4,\"#fde0ef\"],[0.5,\"#f7f7f7\"],[0.6,\"#e6f5d0\"],[0.7,\"#b8e186\"],[0.8,\"#7fbc41\"],[0.9,\"#4d9221\"],[1,\"#276419\"]],\"sequential\":[[0.0,\"#0d0887\"],[0.1111111111111111,\"#46039f\"],[0.2222222222222222,\"#7201a8\"],[0.3333333333333333,\"#9c179e\"],[0.4444444444444444,\"#bd3786\"],[0.5555555555555556,\"#d8576b\"],[0.6666666666666666,\"#ed7953\"],[0.7777777777777778,\"#fb9f3a\"],[0.8888888888888888,\"#fdca26\"],[1.0,\"#f0f921\"]],\"sequentialminus\":[[0.0,\"#0d0887\"],[0.1111111111111111,\"#46039f\"],[0.2222222222222222,\"#7201a8\"],[0.3333333333333333,\"#9c179e\"],[0.4444444444444444,\"#bd3786\"],[0.5555555555555556,\"#d8576b\"],[0.6666666666666666,\"#ed7953\"],[0.7777777777777778,\"#fb9f3a\"],[0.8888888888888888,\"#fdca26\"],[1.0,\"#f0f921\"]]},\"colorway\":[\"#636efa\",\"#EF553B\",\"#00cc96\",\"#ab63fa\",\"#FFA15A\",\"#19d3f3\",\"#FF6692\",\"#B6E880\",\"#FF97FF\",\"#FECB52\"],\"font\":{\"color\":\"#2a3f5f\"},\"geo\":{\"bgcolor\":\"white\",\"lakecolor\":\"white\",\"landcolor\":\"#E5ECF6\",\"showlakes\":true,\"showland\":true,\"subunitcolor\":\"white\"},\"hoverlabel\":{\"align\":\"left\"},\"hovermode\":\"closest\",\"mapbox\":{\"style\":\"light\"},\"paper_bgcolor\":\"white\",\"plot_bgcolor\":\"#E5ECF6\",\"polar\":{\"angularaxis\":{\"gridcolor\":\"white\",\"linecolor\":\"white\",\"ticks\":\"\"},\"bgcolor\":\"#E5ECF6\",\"radialaxis\":{\"gridcolor\":\"white\",\"linecolor\":\"white\",\"ticks\":\"\"}},\"scene\":{\"xaxis\":{\"backgroundcolor\":\"#E5ECF6\",\"gridcolor\":\"white\",\"gridwidth\":2,\"linecolor\":\"white\",\"showbackground\":true,\"ticks\":\"\",\"zerolinecolor\":\"white\"},\"yaxis\":{\"backgroundcolor\":\"#E5ECF6\",\"gridcolor\":\"white\",\"gridwidth\":2,\"linecolor\":\"white\",\"showbackground\":true,\"ticks\":\"\",\"zerolinecolor\":\"white\"},\"zaxis\":{\"backgroundcolor\":\"#E5ECF6\",\"gridcolor\":\"white\",\"gridwidth\":2,\"linecolor\":\"white\",\"showbackground\":true,\"ticks\":\"\",\"zerolinecolor\":\"white\"}},\"shapedefaults\":{\"line\":{\"color\":\"#2a3f5f\"}},\"ternary\":{\"aaxis\":{\"gridcolor\":\"white\",\"linecolor\":\"white\",\"ticks\":\"\"},\"baxis\":{\"gridcolor\":\"white\",\"linecolor\":\"white\",\"ticks\":\"\"},\"bgcolor\":\"#E5ECF6\",\"caxis\":{\"gridcolor\":\"white\",\"linecolor\":\"white\",\"ticks\":\"\"}},\"title\":{\"x\":0.05},\"xaxis\":{\"automargin\":true,\"gridcolor\":\"white\",\"linecolor\":\"white\",\"ticks\":\"\",\"title\":{\"standoff\":15},\"zerolinecolor\":\"white\",\"zerolinewidth\":2},\"yaxis\":{\"automargin\":true,\"gridcolor\":\"white\",\"linecolor\":\"white\",\"ticks\":\"\",\"title\":{\"standoff\":15},\"zerolinecolor\":\"white\",\"zerolinewidth\":2}}},\"title\":{\"text\":\"Continuation Anual expectancy\"},\"autosize\":false,\"width\":1000,\"height\":700,\"scene\":{\"xaxis\":{\"title\":{\"text\":\"Hold Candles\"}},\"yaxis\":{\"title\":{\"text\":\"Gap (%)\"}},\"zaxis\":{\"title\":{\"text\":\"Return (%)\"}}}},                        {\"responsive\": true}                    ).then(function(){\n",
              "                            \n",
              "var gd = document.getElementById('c383d76d-ea9a-4376-b5a9-0cc15579acdf');\n",
              "var x = new MutationObserver(function (mutations, observer) {{\n",
              "        var display = window.getComputedStyle(gd).display;\n",
              "        if (!display || display === 'none') {{\n",
              "            console.log([gd, 'removed!']);\n",
              "            Plotly.purge(gd);\n",
              "            observer.disconnect();\n",
              "        }}\n",
              "}});\n",
              "\n",
              "// Listen for the removal of the full notebook cells\n",
              "var notebookContainer = gd.closest('#notebook-container');\n",
              "if (notebookContainer) {{\n",
              "    x.observe(notebookContainer, {childList: true});\n",
              "}}\n",
              "\n",
              "// Listen for the clearing of the current output cell\n",
              "var outputEl = gd.closest('.output');\n",
              "if (outputEl) {{\n",
              "    x.observe(outputEl, {childList: true});\n",
              "}}\n",
              "\n",
              "                        })                };                            </script>        </div>\n",
              "</body>\n",
              "</html>"
            ]
          },
          "metadata": {}
        }
      ]
    },
    {
      "cell_type": "code",
      "source": [
        "strats['Continuation']['0.4 2']['Stats']"
      ],
      "metadata": {
        "colab": {
          "base_uri": "https://localhost:8080/"
        },
        "id": "EUUTwb-KXBm6",
        "outputId": "7a080a9f-8443-49e1-d9a8-a121129958ab"
      },
      "execution_count": null,
      "outputs": [
        {
          "output_type": "execute_result",
          "data": {
            "text/plain": [
              "{'#Loss': 102,\n",
              " '#Trades': 224,\n",
              " '#Wins': 122,\n",
              " 'AvgLoss': 0.013604914027515643,\n",
              " 'AvgWin': 0.012841156542343399,\n",
              " 'Expectancy': 0.0007987494078540115,\n",
              " 'Frequency': 0.30727023319615915,\n",
              " 'Kelly': 0.06220229503628859,\n",
              " 'MonthExp': 0.004918736455635342,\n",
              " 'RR': 0.9438616456063182,\n",
              " 'Winrate': 0.5446428571428571,\n",
              " 'YearExp': 0.06586516077966964}"
            ]
          },
          "metadata": {},
          "execution_count": 23
        }
      ]
    }
  ]
}